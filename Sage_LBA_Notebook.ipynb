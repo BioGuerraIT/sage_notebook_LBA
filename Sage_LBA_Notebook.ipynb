{
 "cells": [
  {
   "cell_type": "code",
   "execution_count": 46,
   "id": "bf7d1789",
   "metadata": {},
   "outputs": [],
   "source": [
    "# Gabriel Nilsson\n",
    "\n",
    "# Function that returns new matrix with normalized columns\n",
    "def normalize_cols(A):\n",
    "    M = matrix.identity(RR, A.ncols())\n",
    "    for i in range(len(A1.columns())):\n",
    "        col_sum = sum(A1[:,i])\n",
    "        M[:,i] = vector(RR, [val/col_sum for val in A1[:,i]])\n",
    "    return M"
   ]
  },
  {
   "cell_type": "code",
   "execution_count": null,
   "id": "5ff95fa8",
   "metadata": {},
   "outputs": [],
   "source": [
    "\n",
    "A1 = matrix(RR, [[15,4,0,0,7],\n",
    "                [2,4,0,2,0],\n",
    "                [1,0,2,0,1],\n",
    "                [2,0,0,3,0],\n",
    "                [4,0,1,0,6]]).transpose()\n",
    "\n",
    "M1 = normalize_cols(A1)\n",
    "print(A1.n(digits=3), end='\\n\\n')\n",
    "print(M1.n(digits=3))\n"
   ]
  },
  {
   "cell_type": "code",
   "execution_count": 5,
   "id": "ee6911f6",
   "metadata": {},
   "outputs": [
    {
     "name": "stdout",
     "output_type": "stream",
     "text": [
      "[0 1]\n",
      "[2 7]\n"
     ]
    }
   ],
   "source": []
  },
  {
   "cell_type": "code",
   "execution_count": null,
   "id": "a5bfe2c8",
   "metadata": {},
   "outputs": [],
   "source": []
  }
 ],
 "metadata": {
  "kernelspec": {
   "display_name": "SageMath 9.7",
   "language": "sage",
   "name": "sagemath"
  },
  "language_info": {
   "codemirror_mode": {
    "name": "ipython",
    "version": 3
   },
   "file_extension": ".py",
   "mimetype": "text/x-python",
   "name": "python",
   "nbconvert_exporter": "python",
   "pygments_lexer": "ipython3",
   "version": "3.10.5"
  }
 },
 "nbformat": 4,
 "nbformat_minor": 5
}
