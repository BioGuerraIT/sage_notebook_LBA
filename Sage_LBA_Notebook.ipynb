{
 "cells": [
  {
   "cell_type": "code",
   "execution_count": 28,
   "id": "bf7d1789",
   "metadata": {},
   "outputs": [],
   "source": [
    "# Gabriel Nilsson\n",
    "\n",
    "# Function that returns new matrix with normalized columns\n",
    "def normalize_cols(A):\n",
    "    M = matrix.identity(QQ, A.ncols())\n",
    "    for i in range(len(A.columns())):\n",
    "        col_sum = sum(A[:,i])\n",
    "        M[:,i] = vector(QQ, [val/col_sum for val in A[:,i]])\n",
    "    return M"
   ]
  },
  {
   "cell_type": "code",
   "execution_count": 29,
   "id": "5ff95fa8",
   "metadata": {},
   "outputs": [
    {
     "name": "stdout",
     "output_type": "stream",
     "text": [
      "[ 38.0  7.33  2.00  2.00  9.00]\n",
      "[ 9.00  7.67 0.000  4.67 0.000]\n",
      "[ 1.33  2.00  5.00 0.000  2.00]\n",
      "[ 2.67  2.00  1.00  2.67  2.00]\n",
      "[ 10.0  1.00  1.67  3.00  9.33]\n",
      "\n",
      "[ 0.623  0.367  0.207  0.162  0.403]\n",
      "[ 0.148  0.383  0.000  0.378  0.000]\n",
      "[0.0219  0.100  0.517  0.000 0.0896]\n",
      "[0.0437  0.100  0.103  0.216 0.0896]\n",
      "[ 0.164 0.0500  0.172  0.243  0.418]\n",
      "\n",
      "51.0000000000000\n",
      "55.0000000000000\n",
      "58.0000000000000\n"
     ]
    }
   ],
   "source": [
    "# Matrices collected during the data collection\n",
    "A1 = matrix(RR, [[15,4,0,0,6],\n",
    "                 [ 2,4,0,2,0],\n",
    "                 [ 1,0,2,0,1],\n",
    "                 [ 2,0,0,1,0],\n",
    "                 [ 4,0,1,0,6]]).transpose()\n",
    "\n",
    "A2 = matrix(RR, [[16,5,1,2,3],\n",
    "                 [ 4,2,2,0,1],\n",
    "                 [ 0,0,2,1,0],\n",
    "                 [ 0,4,0,0,3],\n",
    "                 [ 4,0,1,2,2]]).transpose()\n",
    "\n",
    "A3 = matrix(RR, [[21,0,1,2,3],\n",
    "                 [ 4,5,0,0,0],\n",
    "                 [ 3,0,3,0,2],\n",
    "                 [ 0,2,0,5,0],\n",
    "                 [ 3,0,0,0,4]]).transpose()\n",
    "\n",
    "#Average Matrix of the sample matrices\n",
    "Av = A1+A2+A3/3\n",
    "\n",
    "# Normalizing the columns of the Average Matrix\n",
    "M = normalize_cols(Av)\n",
    "\n",
    "#Printing The Average Matrix from the 3 data collections and the Markov Matrix\n",
    "print(Av.n(digits=3), end='\\n\\n')\n",
    "print(M.n(digits=3), end='\\n\\n')\n",
    "\n",
    "print(sum(sum(A1)))\n",
    "print(sum(sum(A2)))\n",
    "print(sum(sum(A3)))"
   ]
  },
  {
   "cell_type": "code",
   "execution_count": 30,
   "id": "ee6911f6",
   "metadata": {},
   "outputs": [
    {
     "name": "stdout",
     "output_type": "stream",
     "text": [
      "Eigenvalue: 0.04204105347057670?\n",
      "Eigenvector: (1, -1.122663369234008?, 0.3505465589855885?, 0.6226977297368335?, -0.850580919488415?)\n",
      "Eigenvalue: 0.2600164445417738?\n",
      "Eigenvector: (1, -0.17537152267305?, 0.236924947930264?, -0.3327745987693930?, -0.72877882648783?)\n",
      "Eigenvalue: 0.3944827912302907?\n",
      "Eigenvector: (1, 101.5920869561847?, -22.90390375872838?, 2.603625811806571?, -82.29180900926284?)\n",
      "Eigenvalue: 0.4611119070505784?\n",
      "Eigenvector: (1, 1.15156185386907?, -1.25489648784834?, -0.153217383387221?, -0.74344798263351?)\n",
      "Eigenvalue: 0.9999999999999999?\n",
      "Eigenvector: (1, 0.3481089912217?, 0.19991109458428?, 0.177405030209370?, 0.4448797952328?)\n",
      "\n"
     ]
    }
   ],
   "source": [
    "# Function to print the eigenvalues and eigenvectors of the Markov Matrix generated in the last code cell.\n",
    "def print_eigenstuff(A):\n",
    "    for eigenstuff in A.eigenvectors_right():\n",
    "        print(\"Eigenvalue:\", eigenstuff[0])\n",
    "        print(\"Eigenvector:\", eigenstuff[1][0])\n",
    "    print()\n",
    "\n",
    "# Calling the function to print the eigenvalues and eigenvectors of the Markov Matrix = M\n",
    "print_eigenstuff(M)"
   ]
  },
  {
   "cell_type": "code",
   "execution_count": 31,
   "id": "a5bfe2c8",
   "metadata": {},
   "outputs": [
    {
     "name": "stdout",
     "output_type": "stream",
     "text": [
      "Stationary vector: (1, 0.3481089912217?, 0.19991109458428?, 0.177405030209370?, 0.4448797952328?)\n"
     ]
    }
   ],
   "source": [
    "# Function to calculate the Stationary Vector from the Markov Matrix\n",
    "def stationary_vector(A):\n",
    "    for eigenstuff in A.eigenvectors_right():\n",
    "        if abs(eigenstuff[0] - 1) < .0001:\n",
    "            return eigenstuff[1][0]\n",
    "\n",
    "print(\"Stationary vector:\", stationary_vector(M))\n"
   ]
  },
  {
   "cell_type": "code",
   "execution_count": 37,
   "id": "9b2cc702",
   "metadata": {},
   "outputs": [
    {
     "name": "stdout",
     "output_type": "stream",
     "text": [
      "(0.461, 0.160, 0.0921, 0.0817, 0.205)\n"
     ]
    },
    {
     "data": {
      "image/png": "[encoded data removed]",
      "text/plain": [
       "<Figure size 432x288 with 1 Axes>"
      ]
     },
     "metadata": {
      "needs_background": "light"
     },
     "output_type": "display_data"
    },
    {
     "name": "stdout",
     "output_type": "stream",
     "text": [
      "\n",
      "\n",
      "Using distribution (0.500, 0.250, 0.125, 0.125, 0.000)\n",
      "\n",
      "After 0 time-steps we have: (0.500, 0.250, 0.125, 0.125, 0.000)\n",
      "After 2 time-steps we have: (0.453, 0.182, 0.0966, 0.0836, 0.184)\n",
      "After 4 time-steps we have: (0.459, 0.163, 0.0934, 0.0821, 0.202)\n",
      "After 6 time-steps we have: (0.460, 0.161, 0.0925, 0.0818, 0.205)\n",
      "After 8 time-steps we have: (0.461, 0.160, 0.0922, 0.0818, 0.205)\n",
      "After 10 time-steps we have: (0.461, 0.160, 0.0921, 0.0817, 0.205)\n",
      "After 12 time-steps we have: (0.461, 0.160, 0.0921, 0.0817, 0.205)\n",
      "After 14 time-steps we have: (0.461, 0.160, 0.0921, 0.0817, 0.205)\n",
      "After 16 time-steps we have: (0.461, 0.160, 0.0921, 0.0817, 0.205)\n",
      "\n",
      "\n",
      "Using distribution (0.000, 0.000, 1.00, 0.000, 0.000)\n",
      "\n",
      "After 0 time-steps we have: (0.000, 0.000, 1.00, 0.000, 0.000)\n",
      "After 2 time-steps we have: (0.322, 0.0697, 0.288, 0.100, 0.220)\n",
      "After 4 time-steps we have: (0.427, 0.136, 0.134, 0.0870, 0.216)\n",
      "After 6 time-steps we have: (0.453, 0.154, 0.101, 0.0829, 0.208)\n",
      "After 8 time-steps we have: (0.459, 0.159, 0.0941, 0.0820, 0.206)\n",
      "After 10 time-steps we have: (0.460, 0.160, 0.0925, 0.0818, 0.205)\n",
      "After 12 time-steps we have: (0.461, 0.160, 0.0922, 0.0818, 0.205)\n",
      "After 14 time-steps we have: (0.461, 0.160, 0.0921, 0.0817, 0.205)\n",
      "After 16 time-steps we have: (0.461, 0.160, 0.0921, 0.0817, 0.205)\n",
      "\n",
      "\n",
      "Using distribution (0.200, 0.200, 0.200, 0.200, 0.200)\n",
      "\n",
      "After 0 time-steps we have: (0.200, 0.200, 0.200, 0.200, 0.200)\n",
      "After 2 time-steps we have: (0.419, 0.164, 0.120, 0.0913, 0.206)\n",
      "After 4 time-steps we have: (0.453, 0.159, 0.0989, 0.0832, 0.206)\n",
      "After 6 time-steps we have: (0.459, 0.160, 0.0937, 0.0820, 0.205)\n",
      "After 8 time-steps we have: (0.460, 0.160, 0.0925, 0.0818, 0.205)\n",
      "After 10 time-steps we have: (0.461, 0.160, 0.0922, 0.0817, 0.205)\n",
      "After 12 time-steps we have: (0.461, 0.160, 0.0921, 0.0817, 0.205)\n",
      "After 14 time-steps we have: (0.461, 0.160, 0.0921, 0.0817, 0.205)\n",
      "After 16 time-steps we have: (0.461, 0.160, 0.0921, 0.0817, 0.205)\n",
      "\n",
      "\n",
      "\n",
      "\n",
      "\n"
     ]
    }
   ],
   "source": [
    "import numpy as np\n",
    "import matplotlib.pyplot as plt\n",
    "\n",
    "# Defining 3 different initial distributions\n",
    "init_dist1 = vector([0.5,0.25,0.125,0.125,0])\n",
    "init_dist2 = vector([0,0,1,0,0])\n",
    "init_dist3 = vector([0.2,0.2,0.2,0.2,0.2])\n",
    "\n",
    "initial_distributions = [init_dist1, init_dist2, init_dist3]\n",
    "\n",
    "# Funtion to Potentialize M (Markov Matrix) to n with the 3 different initial distributions until the Stationary Vector calculated before is achieved.\n",
    "def limit_pattern(M, init_dists):\n",
    "\n",
    "    stat_vec = stationary_vector(M)\n",
    "    # Turning the Stationary Vector into a probability distribution (Normalizing)\n",
    "    norm_stat_vec = np.array(stat_vec)/sum(stat_vec)\n",
    "\n",
    "    print(vector(RR, norm_stat_vec).n(digits=3))\n",
    "\n",
    "    environmets = ['C. Seating', 'Pista H.', 'Burger K.', 'Buffalo W. W.', 'Coffe D.']\n",
    "    plt.title('Stationary Probability Distribution')\n",
    "    plt.bar(environmets, norm_stat_vec)\n",
    "    plt.ylabel('Probability of a Person Being in each Environment')\n",
    "    plt.xlabel('Environments')\n",
    "    plt.show()\n",
    "\n",
    "    for dist in init_dists:\n",
    "        old_dist = dist\n",
    "        print(f\"\\n\\nUsing the initial distribution {dist.n(digits=3)}\\n\")\n",
    "        for i in range(17):\n",
    "            if i % 2 == 0:\n",
    "                print(f\"After {i} time-steps we have: {old_dist.n(digits=3)}\")\n",
    "            new_dist = M*old_dist\n",
    "            old_dist = new_dist\n",
    "\n",
    "    print('\\n\\n\\n\\n')\n",
    "    \n",
    "for M in [M]:\n",
    "    limit_pattern(M, initial_distributions)"
   ]
  },
  {
   "cell_type": "code",
   "execution_count": null,
   "id": "5705f8f4",
   "metadata": {},
   "outputs": [],
   "source": []
  }
 ],
 "metadata": {
  "kernelspec": {
   "display_name": "SageMath 9.7",
   "language": "sage",
   "name": "sagemath"
  },
  "language_info": {
   "codemirror_mode": {
    "name": "ipython",
    "version": 3
   },
   "file_extension": ".py",
   "mimetype": "text/x-python",
   "name": "python",
   "nbconvert_exporter": "python",
   "pygments_lexer": "ipython3",
   "version": "3.10.5"
  }
 },
 "nbformat": 4,
 "nbformat_minor": 5
}
