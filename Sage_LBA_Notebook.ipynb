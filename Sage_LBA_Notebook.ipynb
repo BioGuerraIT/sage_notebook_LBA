{
 "cells": [
  {
   "cell_type": "code",
   "execution_count": 36,
   "id": "bf7d1789",
   "metadata": {},
   "outputs": [
    {
     "name": "stdout",
     "output_type": "stream",
     "text": [
      "[ 15.0000000000000  2.00000000000000  1.00000000000000  2.00000000000000  4.00000000000000]\n",
      "[ 4.00000000000000  4.00000000000000 0.000000000000000 0.000000000000000 0.000000000000000]\n",
      "[0.000000000000000 0.000000000000000  2.00000000000000 0.000000000000000  1.00000000000000]\n",
      "[0.000000000000000  2.00000000000000 0.000000000000000  3.00000000000000 0.000000000000000]\n",
      "[ 7.00000000000000 0.000000000000000  1.00000000000000 0.000000000000000  6.00000000000000]\n",
      "\n",
      "[ 0.576923076923077  0.250000000000000  0.250000000000000  0.400000000000000  0.363636363636364]\n",
      "[ 0.153846153846154  0.500000000000000  0.000000000000000  0.000000000000000  0.000000000000000]\n",
      "[ 0.000000000000000  0.000000000000000  0.500000000000000  0.000000000000000 0.0909090909090909]\n",
      "[ 0.000000000000000  0.250000000000000  0.000000000000000  0.600000000000000  0.000000000000000]\n",
      "[ 0.269230769230769  0.000000000000000  0.250000000000000  0.000000000000000  0.545454545454545]\n"
     ]
    }
   ],
   "source": [
    "# Gabriel Nilsson\n",
    "import numpy as np\n",
    "A1 = matrix(RR, [[15,4,0,0,7],\n",
    "             [2,4,0,2,0],\n",
    "             [1,0,2,0,1],\n",
    "             [2,0,0,3,0],\n",
    "             [4,0,1,0,6]]).transpose()\n",
    "\n",
    "\n",
    "print(A1, end='\\n\\n')\n",
    "for i in range(len(A1.columns())):\n",
    "    col_sum = sum(A1[:,i])\n",
    "    A1[:,i] = vector(RR, [val/col_sum for val in A1[:,i]])\n",
    "print(A1)\n",
    "\n",
    "\n",
    "\n"
   ]
  },
  {
   "cell_type": "code",
   "execution_count": 5,
   "id": "ee6911f6",
   "metadata": {},
   "outputs": [
    {
     "name": "stdout",
     "output_type": "stream",
     "text": [
      "[0 1]\n",
      "[2 7]\n"
     ]
    }
   ],
   "source": []
  },
  {
   "cell_type": "code",
   "execution_count": null,
   "id": "a5bfe2c8",
   "metadata": {},
   "outputs": [],
   "source": []
  }
 ],
 "metadata": {
  "kernelspec": {
   "display_name": "SageMath 9.7",
   "language": "sage",
   "name": "sagemath"
  },
  "language_info": {
   "codemirror_mode": {
    "name": "ipython",
    "version": 3
   },
   "file_extension": ".py",
   "mimetype": "text/x-python",
   "name": "python",
   "nbconvert_exporter": "python",
   "pygments_lexer": "ipython3",
   "version": "3.10.5"
  }
 },
 "nbformat": 4,
 "nbformat_minor": 5
}
