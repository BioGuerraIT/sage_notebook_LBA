{
 "cells": [
  {
   "cell_type": "code",
   "execution_count": 4,
   "id": "bf7d1789",
   "metadata": {},
   "outputs": [],
   "source": [
    "#Gabriel Nilsson"
   ]
  },
  {
   "cell_type": "code",
   "execution_count": 5,
   "id": "ee6911f6",
   "metadata": {},
   "outputs": [
    {
     "name": "stdout",
     "output_type": "stream",
     "text": [
      "[0 1]\n",
      "[2 7]\n"
     ]
    }
   ],
   "source": [
    "# I made this change\n",
    "A = matrix([[0,1],[2,7]])\n",
    "print(A)"
   ]
  },
  {
   "cell_type": "code",
   "execution_count": null,
   "id": "a5bfe2c8",
   "metadata": {},
   "outputs": [],
   "source": []
  }
 ],
 "metadata": {
  "kernelspec": {
   "display_name": "SageMath 9.7",
   "language": "sage",
   "name": "sagemath"
  },
  "language_info": {
   "codemirror_mode": {
    "name": "ipython",
    "version": 3
   },
   "file_extension": ".py",
   "mimetype": "text/x-python",
   "name": "python",
   "nbconvert_exporter": "python",
   "pygments_lexer": "ipython3",
   "version": "3.10.5"
  }
 },
 "nbformat": 4,
 "nbformat_minor": 5
}
