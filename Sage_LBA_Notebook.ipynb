{
 "cells": [
  {
   "cell_type": "code",
   "execution_count": 41,
   "id": "bf7d1789",
   "metadata": {},
   "outputs": [],
   "source": [
    "# Gabriel Nilsson\n",
    "\n",
    "# Function that returns new matrix with normalized columns\n",
    "def normalize_cols(A):\n",
    "    M = matrix.identity(QQ, A.ncols())\n",
    "    for i in range(len(A.columns())):\n",
    "        col_sum = sum(A[:,i])\n",
    "        M[:,i] = vector(QQ, [val/col_sum for val in A[:,i]])\n",
    "    return M"
   ]
  },
  {
   "cell_type": "code",
   "execution_count": 42,
   "id": "5ff95fa8",
   "metadata": {},
   "outputs": [
    {
     "name": "stdout",
     "output_type": "stream",
     "text": [
      "[ 37.7  7.33  2.00  2.00  9.00]\n",
      "[ 9.00  7.33 0.000  4.67 0.000]\n",
      "[ 1.33  2.00  3.00 0.000  2.00]\n",
      "[ 2.33  2.00  1.00  4.67  2.00]\n",
      "[ 11.0  1.00  2.33  3.00  9.33]\n",
      "\n",
      "[ 0.614  0.373  0.240  0.140  0.403]\n",
      "[ 0.147  0.373  0.000  0.326  0.000]\n",
      "[0.0217  0.102  0.360  0.000 0.0896]\n",
      "[0.0380  0.102  0.120  0.326 0.0896]\n",
      "[ 0.179 0.0508  0.280  0.209  0.418]\n",
      "\n"
     ]
    }
   ],
   "source": [
    "# Matrices collected during the data collection\n",
    "A1 = matrix(RR, [[15,4,0,0,7],\n",
    "                 [ 2,4,0,2,0],\n",
    "                 [ 1,0,2,0,1],\n",
    "                 [ 2,0,0,3,0],\n",
    "                 [ 4,0,1,0,6]]).transpose()\n",
    "\n",
    "A2 = matrix(RR, [[16,5,1,2,3],\n",
    "                 [ 4,2,2,0,1],\n",
    "                 [ 0,0,0,1,1],\n",
    "                 [ 0,4,0,0,3],\n",
    "                 [ 4,0,1,2,2]]).transpose()\n",
    "\n",
    "A3 = matrix(RR, [[20,0,1,1,3],\n",
    "                 [ 4,4,0,0,0],\n",
    "                 [ 3,0,3,0,1],\n",
    "                 [ 0,2,0,5,0],\n",
    "                 [ 3,0,0,0,4]]).transpose()\n",
    "\n",
    "#Average Matrix of the sample matrices\n",
    "Av = A1+A2+A3/3\n",
    "\n",
    "# Normalizing the columns of the Average Matrix\n",
    "M = normalize_cols(Av)\n",
    "\n",
    "#Printing The Average Matrix from the 3 data collections and the Markov Matrix\n",
    "print(Av.n(digits=3), end='\\n\\n')\n",
    "print(M.n(digits=3), end='\\n\\n')"
   ]
  },
  {
   "cell_type": "code",
   "execution_count": 43,
   "id": "ee6911f6",
   "metadata": {},
   "outputs": [
    {
     "name": "stdout",
     "output_type": "stream",
     "text": [
      "Eigenvalue: 0.07533464611737358?\n",
      "Eigenvector: (1, -0.8009677369377102?, 0.526515519458645?, 0.2813004233879371?, -1.006848205908872?)\n",
      "Eigenvalue: 0.2731679858821693?\n",
      "Eigenvector: (1, 0.733340438424527?, 0.5755575046302950?, -0.6752934291853325?, -1.633604513869490?)\n",
      "Eigenvalue: 0.9999999999999999?\n",
      "Eigenvector: (1, 0.337391771359244?, 0.155287573579407?, 0.199168443486095?, 0.483895094505368?)\n",
      "Eigenvalue: 0.3710005009126502? - 0.01096360832109301?*I\n",
      "Eigenvector: (1, 0.0466690551751003? + 0.3277912856041272?*I, -0.2783096658859392? + 0.01232485068220897?*I, -0.4399303367490370? - 0.00346515231725943?*I, -0.3284290525401242? - 0.3366509839690768?*I)\n",
      "Eigenvalue: 0.3710005009126502? + 0.01096360832109301?*I\n",
      "Eigenvector: (1, 0.0466690551751003? - 0.3277912856041272?*I, -0.2783096658859392? - 0.01232485068220897?*I, -0.4399303367490370? + 0.00346515231725943?*I, -0.3284290525401242? + 0.3366509839690768?*I)\n",
      "\n"
     ]
    }
   ],
   "source": [
    "# Function to print the eigenvalues and eigenvectors of the Markov Matrix generated in the last code cell.\n",
    "def print_eigenstuff(A):\n",
    "    for eigenstuff in A.eigenvectors_right():\n",
    "        print(\"Eigenvalue:\", eigenstuff[0])\n",
    "        print(\"Eigenvector:\", eigenstuff[1][0])\n",
    "    print()\n",
    "\n",
    "# Calling the function to print the eigenvalues and eigenvectors of the Markov Matrix = M\n",
    "print_eigenstuff(M)"
   ]
  },
  {
   "cell_type": "code",
   "execution_count": 52,
   "id": "a5bfe2c8",
   "metadata": {},
   "outputs": [
    {
     "name": "stdout",
     "output_type": "stream",
     "text": [
      "Stationary vector: (1, 0.337391771359244?, 0.155287573579407?, 0.199168443486095?, 0.483895094505368?)\n"
     ]
    }
   ],
   "source": [
    "# Function to calculate the Stationary Vector from the Markov Matrix\n",
    "def stationary_vector(A):\n",
    "    for eigenstuff in A.eigenvectors_right():\n",
    "        if abs(eigenstuff[0] - 1) < .0001:\n",
    "            return eigenstuff[1][0]\n",
    "\n",
    "print(\"Stationary vector:\", stationary_vector(M))\n"
   ]
  },
  {
   "cell_type": "code",
   "execution_count": 51,
   "id": "9b2cc702",
   "metadata": {},
   "outputs": [
    {
     "name": "stdout",
     "output_type": "stream",
     "text": [
      "(0.460, 0.155, 0.0714, 0.0915, 0.222)\n",
      "\n",
      "\n",
      "Using distribution (0.500, 0.250, 0.125, 0.125, 0.000)\n",
      "\n",
      "After 0 time-steps we have: (0.500, 0.250, 0.125, 0.125, 0.000)\n",
      "After 2 time-steps we have: (0.452, 0.176, 0.0747, 0.0951, 0.203)\n",
      "After 4 time-steps we have: (0.458, 0.158, 0.0720, 0.0922, 0.220)\n",
      "After 6 time-steps we have: (0.459, 0.155, 0.0715, 0.0917, 0.222)\n",
      "After 8 time-steps we have: (0.460, 0.155, 0.0714, 0.0916, 0.222)\n",
      "After 10 time-steps we have: (0.460, 0.155, 0.0714, 0.0915, 0.222)\n",
      "After 12 time-steps we have: (0.460, 0.155, 0.0714, 0.0915, 0.222)\n",
      "After 14 time-steps we have: (0.460, 0.155, 0.0714, 0.0915, 0.222)\n",
      "After 16 time-steps we have: (0.460, 0.155, 0.0714, 0.0915, 0.222)\n",
      "\n",
      "\n",
      "Using distribution (0.000, 0.000, 1.00, 0.000, 0.000)\n",
      "\n",
      "After 0 time-steps we have: (0.000, 0.000, 1.00, 0.000, 0.000)\n",
      "After 2 time-steps we have: (0.363, 0.0743, 0.160, 0.116, 0.286)\n",
      "After 4 time-steps we have: (0.445, 0.140, 0.0798, 0.0969, 0.239)\n",
      "After 6 time-steps we have: (0.458, 0.153, 0.0722, 0.0923, 0.225)\n",
      "After 8 time-steps we have: (0.459, 0.155, 0.0714, 0.0916, 0.223)\n",
      "After 10 time-steps we have: (0.460, 0.155, 0.0714, 0.0916, 0.222)\n",
      "After 12 time-steps we have: (0.460, 0.155, 0.0714, 0.0915, 0.222)\n",
      "After 14 time-steps we have: (0.460, 0.155, 0.0714, 0.0915, 0.222)\n",
      "After 16 time-steps we have: (0.460, 0.155, 0.0714, 0.0915, 0.222)\n",
      "\n",
      "\n",
      "Using distribution (0.200, 0.200, 0.200, 0.200, 0.200)\n",
      "\n",
      "After 0 time-steps we have: (0.200, 0.200, 0.200, 0.200, 0.200)\n",
      "After 2 time-steps we have: (0.418, 0.159, 0.0865, 0.109, 0.227)\n",
      "After 4 time-steps we have: (0.454, 0.155, 0.0733, 0.0941, 0.224)\n",
      "After 6 time-steps we have: (0.459, 0.155, 0.0716, 0.0919, 0.223)\n",
      "After 8 time-steps we have: (0.460, 0.155, 0.0714, 0.0916, 0.222)\n",
      "After 10 time-steps we have: (0.460, 0.155, 0.0714, 0.0915, 0.222)\n",
      "After 12 time-steps we have: (0.460, 0.155, 0.0714, 0.0915, 0.222)\n",
      "After 14 time-steps we have: (0.460, 0.155, 0.0714, 0.0915, 0.222)\n",
      "After 16 time-steps we have: (0.460, 0.155, 0.0714, 0.0915, 0.222)\n",
      "\n",
      "\n",
      "\n",
      "\n",
      "\n"
     ]
    }
   ],
   "source": [
    "import numpy as np\n",
    "\n",
    "# Defining 3 different initial distributions\n",
    "init_dist1 = vector([0.5,0.25,0.125,0.125,0])\n",
    "init_dist2 = vector([0,0,1,0,0])\n",
    "init_dist3 = vector([0.2,0.2,0.2,0.2,0.2])\n",
    "\n",
    "\n",
    "initial_distributions = [init_dist1, init_dist2, init_dist3]\n",
    "\n",
    "# Funtion to Potentialize M (Markov Matrix) to n with the 3 different initial distributions until the Stationary Vector calculated before is achieved.\n",
    "def limit_pattern(M, init_dists):\n",
    "\n",
    "    stat_vec = stationary_vector(M)\n",
    "    # Turning the Stationary Vector into a probability distribution (Normalizing)\n",
    "    norm_stat_vec = np.array(stat_vec)/sum(stat_vec)\n",
    "\n",
    "    print(vector(RR, norm_stat_vec).n(digits=3))\n",
    "\n",
    "    for dist in init_dists:\n",
    "        old_dist = dist\n",
    "        print(f\"\\n\\nUsing distribution {dist.n(digits=3)}\\n\")\n",
    "        for i in range(17):\n",
    "            if i % 2 == 0:\n",
    "                print(f\"After {i} time-steps we have: {old_dist.n(digits=3)}\")\n",
    "            new_dist = M*old_dist\n",
    "            old_dist = new_dist\n",
    "\n",
    "    print('\\n\\n\\n\\n')\n",
    "    \n",
    "for M in [M]:\n",
    "    limit_pattern(M, initial_distributions)"
   ]
  }
 ],
 "metadata": {
  "kernelspec": {
   "display_name": "SageMath 9.7",
   "language": "sage",
   "name": "sagemath"
  },
  "language_info": {
   "codemirror_mode": {
    "name": "ipython",
    "version": 3
   },
   "file_extension": ".py",
   "mimetype": "text/x-python",
   "name": "python",
   "nbconvert_exporter": "python",
   "pygments_lexer": "ipython3",
   "version": "3.10.5"
  }
 },
 "nbformat": 4,
 "nbformat_minor": 5
}
